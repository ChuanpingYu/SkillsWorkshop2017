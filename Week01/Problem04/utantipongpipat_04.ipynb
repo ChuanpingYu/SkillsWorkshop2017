{
 "cells": [
  {
   "cell_type": "code",
   "execution_count": 18,
   "metadata": {},
   "outputs": [
    {
     "name": "stdout",
     "output_type": "stream",
     "text": [
      "906609\n"
     ]
    }
   ],
   "source": [
    "import math\n",
    "\n",
    "def parTest(number):\n",
    "    strIn = str(number);\n",
    "    for i in range (math.floor(len(strIn)/2)):\n",
    "        if (strIn[i] != strIn[len(strIn)-i-1]):\n",
    "            return False;\n",
    "    return True;\n",
    "#parTest(356654) for testing\n",
    "\n",
    "n=100;\n",
    "maxPar = -1;\n",
    "for a in range(n):\n",
    "    for b in range(n):\n",
    "        #brute force all product of 2 numbers starting from 999 * 999 can go lower\n",
    "        number = (999 - a)*(999-b);\n",
    "        if number > maxPar and parTest(number):\n",
    "            maxPar = number;\n",
    "print(maxPar)\n",
    "            "
   ]
  },
  {
   "cell_type": "code",
   "execution_count": null,
   "metadata": {
    "collapsed": true
   },
   "outputs": [],
   "source": []
  }
 ],
 "metadata": {
  "kernelspec": {
   "display_name": "Python 3",
   "language": "python",
   "name": "python3"
  },
  "language_info": {
   "codemirror_mode": {
    "name": "ipython",
    "version": 3
   },
   "file_extension": ".py",
   "mimetype": "text/x-python",
   "name": "python",
   "nbconvert_exporter": "python",
   "pygments_lexer": "ipython3",
   "version": "3.6.1"
  }
 },
 "nbformat": 4,
 "nbformat_minor": 2
}

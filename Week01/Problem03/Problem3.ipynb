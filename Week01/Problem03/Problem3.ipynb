{
 "cells": [
  {
   "cell_type": "code",
   "execution_count": 1,
   "metadata": {},
   "outputs": [
    {
     "name": "stdout",
     "output_type": "stream",
     "text": [
      "6857\n"
     ]
    }
   ],
   "source": [
    "import math\n",
    "number = 600851475143;\n",
    "prime = 2;\n",
    "biggestPrime = 2;\n",
    "#will pull out prime factor, from small one first\n",
    "while (prime < number+1 ):\n",
    "    while (number%prime == 0):\n",
    "        number = number/prime;\n",
    "        biggestPrime = prime; #this prime is a factor\n",
    "    prime=prime+1; #even if prime is not really a prime, e.g. 4, it's ok because the factor of 4 is already out from original number\n",
    "print(biggestPrime)"
   ]
  },
  {
   "cell_type": "code",
   "execution_count": null,
   "metadata": {
    "collapsed": true
   },
   "outputs": [],
   "source": []
  }
 ],
 "metadata": {
  "kernelspec": {
   "display_name": "Python 3",
   "language": "python",
   "name": "python3"
  },
  "language_info": {
   "codemirror_mode": {
    "name": "ipython",
    "version": 3
   },
   "file_extension": ".py",
   "mimetype": "text/x-python",
   "name": "python",
   "nbconvert_exporter": "python",
   "pygments_lexer": "ipython3",
   "version": "3.6.1"
  }
 },
 "nbformat": 4,
 "nbformat_minor": 2
}
